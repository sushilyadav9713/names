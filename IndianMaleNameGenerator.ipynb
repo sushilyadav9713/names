{
  "nbformat": 4,
  "nbformat_minor": 0,
  "metadata": {
    "colab": {
      "provenance": [],
      "include_colab_link": true
    },
    "kernelspec": {
      "name": "python3",
      "display_name": "Python 3"
    },
    "language_info": {
      "name": "python"
    }
  },
  "cells": [
    {
      "cell_type": "markdown",
      "metadata": {
        "id": "view-in-github",
        "colab_type": "text"
      },
      "source": [
        "<a href=\"https://colab.research.google.com/github/sushilyadav9713/names/blob/main/IndianMaleNameGenerator.ipynb\" target=\"_parent\"><img src=\"https://colab.research.google.com/assets/colab-badge.svg\" alt=\"Open In Colab\"/></a>"
      ]
    },
    {
      "cell_type": "code",
      "execution_count": 50,
      "metadata": {
        "id": "vowXRstocd8F"
      },
      "outputs": [],
      "source": [
        "import torch\n",
        "import torch.nn.functional as F\n",
        "import matplotlib.pyplot as plt # for making figures\n",
        "%matplotlib inline"
      ]
    },
    {
      "cell_type": "code",
      "source": [
        "# download the names.txt file from github\n",
        "!wget https://raw.githubusercontent.com/sushilyadav9713/names/refs/heads/main/output_file.txt"
      ],
      "metadata": {
        "colab": {
          "base_uri": "https://localhost:8080/"
        },
        "id": "9Rlc3YeWcm_d",
        "outputId": "53acd12e-7272-4fea-d529-842d80617ad8"
      },
      "execution_count": 116,
      "outputs": [
        {
          "output_type": "stream",
          "name": "stdout",
          "text": [
            "--2025-03-29 13:15:38--  https://raw.githubusercontent.com/sushilyadav9713/names/refs/heads/main/output_file.txt\n",
            "Resolving raw.githubusercontent.com (raw.githubusercontent.com)... 185.199.108.133, 185.199.109.133, 185.199.110.133, ...\n",
            "Connecting to raw.githubusercontent.com (raw.githubusercontent.com)|185.199.108.133|:443... connected.\n",
            "HTTP request sent, awaiting response... 200 OK\n",
            "Length: 175716 (172K) [text/plain]\n",
            "Saving to: ‘output_file.txt.1’\n",
            "\n",
            "\routput_file.txt.1     0%[                    ]       0  --.-KB/s               \routput_file.txt.1   100%[===================>] 171.60K  --.-KB/s    in 0.02s   \n",
            "\n",
            "2025-03-29 13:15:38 (7.92 MB/s) - ‘output_file.txt.1’ saved [175716/175716]\n",
            "\n"
          ]
        }
      ]
    },
    {
      "cell_type": "code",
      "source": [
        "words = open('output_file.txt', 'r').read().splitlines()\n",
        "words[:8]"
      ],
      "metadata": {
        "colab": {
          "base_uri": "https://localhost:8080/"
        },
        "id": "uH2MGP4FcidR",
        "outputId": "131b3f2e-34ad-4efa-851f-1882c27062f4"
      },
      "execution_count": 117,
      "outputs": [
        {
          "output_type": "execute_result",
          "data": {
            "text/plain": [
              "['baljraj',\n",
              " 'ramdin verma',\n",
              " 'sharat chandran',\n",
              " 'birender mandal',\n",
              " 'amit',\n",
              " 'kushal',\n",
              " 'kasid',\n",
              " 'shiv prakash']"
            ]
          },
          "metadata": {},
          "execution_count": 117
        }
      ]
    },
    {
      "cell_type": "code",
      "source": [
        "len(words)"
      ],
      "metadata": {
        "colab": {
          "base_uri": "https://localhost:8080/"
        },
        "id": "FbakoEqAcvnF",
        "outputId": "81163558-9ec5-40b2-d832-8de127073924"
      },
      "execution_count": 118,
      "outputs": [
        {
          "output_type": "execute_result",
          "data": {
            "text/plain": [
              "14790"
            ]
          },
          "metadata": {},
          "execution_count": 118
        }
      ]
    },
    {
      "cell_type": "code",
      "source": [
        "# build the vocabulary of characters and mappings to/from integers\n",
        "chars = sorted(list(set(''.join(words))))\n",
        "stoi = {s:i+1 for i,s in enumerate(chars)}\n",
        "stoi['.'] = 0\n",
        "itos = {i:s for s,i in stoi.items()}\n",
        "print(itos)"
      ],
      "metadata": {
        "colab": {
          "base_uri": "https://localhost:8080/"
        },
        "id": "EYnXhmWVcx-l",
        "outputId": "8fd2ed10-5d2b-4766-adec-e2d1cbfc366c"
      },
      "execution_count": 119,
      "outputs": [
        {
          "output_type": "stream",
          "name": "stdout",
          "text": [
            "{1: ' ', 2: '\\\\', 3: 'a', 4: 'b', 5: 'c', 6: 'd', 7: 'e', 8: 'f', 9: 'g', 10: 'h', 11: 'i', 12: 'j', 13: 'k', 14: 'l', 15: 'm', 16: 'n', 17: 'o', 18: 'p', 19: 'q', 20: 'r', 21: 's', 22: 't', 23: 'u', 24: 'v', 25: 'w', 26: 'x', 27: 'y', 28: 'z', 0: '.'}\n"
          ]
        }
      ]
    },
    {
      "cell_type": "code",
      "source": [
        "# build the dataset\n",
        "block_size = 3 # context length: how many characters do we take to predict the next one?\n",
        "\n",
        "def build_dataset(words):\n",
        "  X, Y = [], []\n",
        "  for w in words:\n",
        "\n",
        "    #print(w)\n",
        "    context = [0] * block_size\n",
        "    for ch in w + '.':\n",
        "      ix = stoi[ch]\n",
        "      X.append(context)\n",
        "      Y.append(ix)\n",
        "      #print(''.join(itos[i] for i in context), '--->', itos[ix])\n",
        "      context = context[1:] + [ix] # crop and append\n",
        "\n",
        "  X = torch.tensor(X)\n",
        "  Y = torch.tensor(Y)\n",
        "  print(X.shape, Y.shape)\n",
        "  return X, Y\n",
        "\n",
        "import random\n",
        "random.seed(42)\n",
        "random.shuffle(words)\n",
        "n1 = int(0.8*len(words))\n",
        "n2 = int(0.9*len(words))\n",
        "\n",
        "Xtr, Ytr = build_dataset(words[:n1])\n",
        "Xdev, Ydev = build_dataset(words[n1:n2])\n",
        "Xte, Yte = build_dataset(words[n2:])"
      ],
      "metadata": {
        "colab": {
          "base_uri": "https://localhost:8080/"
        },
        "id": "MB5XgJxdczFi",
        "outputId": "0952409a-b658-447b-e1d0-b33fca9392fa"
      },
      "execution_count": 120,
      "outputs": [
        {
          "output_type": "stream",
          "name": "stdout",
          "text": [
            "torch.Size([128695, 3]) torch.Size([128695])\n",
            "torch.Size([16062, 3]) torch.Size([16062])\n",
            "torch.Size([16171, 3]) torch.Size([16171])\n"
          ]
        }
      ]
    },
    {
      "cell_type": "code",
      "source": [
        "g = torch.Generator().manual_seed(2147483647) # for reproducibility\n",
        "C = torch.randn((29, 10), generator=g)\n",
        "W1 = torch.randn((30, 200), generator=g)\n",
        "b1 = torch.randn(200, generator=g)\n",
        "W2 = torch.randn((200, 29), generator=g)\n",
        "b2 = torch.randn(29, generator=g)\n",
        "parameters = [C, W1, b1, W2, b2]"
      ],
      "metadata": {
        "id": "EAA0_oigc13X"
      },
      "execution_count": 127,
      "outputs": []
    },
    {
      "cell_type": "code",
      "source": [
        "sum(p.nelement() for p in parameters) # number of parameters in total"
      ],
      "metadata": {
        "colab": {
          "base_uri": "https://localhost:8080/"
        },
        "id": "_HcVef6-c5S4",
        "outputId": "d7f50915-ec71-4c98-c798-978cc932b17d"
      },
      "execution_count": 128,
      "outputs": [
        {
          "output_type": "execute_result",
          "data": {
            "text/plain": [
              "12319"
            ]
          },
          "metadata": {},
          "execution_count": 128
        }
      ]
    },
    {
      "cell_type": "code",
      "source": [
        "for p in parameters:\n",
        "  p.requires_grad = True"
      ],
      "metadata": {
        "id": "coNBea1sc6tm"
      },
      "execution_count": 130,
      "outputs": []
    },
    {
      "cell_type": "code",
      "source": [
        "lre = torch.linspace(-3, 0, 1000)\n",
        "lrs = 10**lre"
      ],
      "metadata": {
        "id": "nFWpAj_9c9Yr"
      },
      "execution_count": 129,
      "outputs": []
    },
    {
      "cell_type": "code",
      "source": [
        "lri = []\n",
        "lossi = []\n",
        "stepi = []"
      ],
      "metadata": {
        "id": "t2huuyTudBlF"
      },
      "execution_count": 131,
      "outputs": []
    },
    {
      "cell_type": "code",
      "source": [
        "for i in range(20000):\n",
        "\n",
        "  # minibatch construct\n",
        "  ix = torch.randint(0, Xtr.shape[0], (32,))\n",
        "\n",
        "  # forward pass\n",
        "  emb = C[Xtr[ix]] # (32, 3, 2)\n",
        "  h = torch.tanh(emb.view(-1, 30) @ W1 + b1) # (32, 100)\n",
        "  logits = h @ W2 + b2 # (32, 27)\n",
        "  loss = F.cross_entropy(logits, Ytr[ix])\n",
        "  #print(loss.item())\n",
        "\n",
        "  # backward pass\n",
        "  for p in parameters:\n",
        "    p.grad = None\n",
        "  loss.backward()\n",
        "\n",
        "  # update\n",
        "  #lr = lrs[i]\n",
        "  lr = 0.01 if i < 100000 else 0.01\n",
        "  for p in parameters:\n",
        "    p.data += -lr * p.grad\n",
        "\n",
        "  # track stats\n",
        "  #lri.append(lre[i])\n",
        "  stepi.append(i)\n",
        "  lossi.append(loss.log10().item())\n",
        "\n",
        "#print(loss.item())"
      ],
      "metadata": {
        "id": "jiKD-PPOdClh"
      },
      "execution_count": 152,
      "outputs": []
    },
    {
      "cell_type": "code",
      "source": [
        "plt.plot(stepi, lossi)"
      ],
      "metadata": {
        "colab": {
          "base_uri": "https://localhost:8080/",
          "height": 447
        },
        "id": "ZBAYXZ_rdGIG",
        "outputId": "c7522ed1-6cb2-4a63-b099-a235bdedbd10"
      },
      "execution_count": 143,
      "outputs": [
        {
          "output_type": "execute_result",
          "data": {
            "text/plain": [
              "[<matplotlib.lines.Line2D at 0x7b903b937550>]"
            ]
          },
          "metadata": {},
          "execution_count": 143
        },
        {
          "output_type": "display_data",
          "data": {
            "text/plain": [
              "<Figure size 640x480 with 1 Axes>"
            ],
            "image/png": "[encoded data removed]"
          },
          "metadata": {}
        }
      ]
    },
    {
      "cell_type": "code",
      "source": [
        "# training loss\n",
        "emb = C[Xtr] # (32, 3, 2)\n",
        "h = torch.tanh(emb.view(-1, 30) @ W1 + b1) # (32, 100)\n",
        "logits = h @ W2 + b2 # (32, 27)\n",
        "loss = F.cross_entropy(logits, Ytr)\n",
        "loss"
      ],
      "metadata": {
        "colab": {
          "base_uri": "https://localhost:8080/"
        },
        "id": "ZlhYinNgdIVF",
        "outputId": "44fee31f-64dc-44c2-bcf4-44a25392a7ed"
      },
      "execution_count": 153,
      "outputs": [
        {
          "output_type": "execute_result",
          "data": {
            "text/plain": [
              "tensor(1.4613, grad_fn=<NllLossBackward0>)"
            ]
          },
          "metadata": {},
          "execution_count": 153
        }
      ]
    },
    {
      "cell_type": "code",
      "source": [
        "# validation loss\n",
        "emb = C[Xdev] # (32, 3, 2)\n",
        "h = torch.tanh(emb.view(-1, 30) @ W1 + b1) # (32, 100)\n",
        "logits = h @ W2 + b2 # (32, 27)\n",
        "loss = F.cross_entropy(logits, Ydev)\n",
        "loss"
      ],
      "metadata": {
        "colab": {
          "base_uri": "https://localhost:8080/"
        },
        "id": "cJH3DDu4dLTM",
        "outputId": "6e6b08ff-4d77-4fa1-d75b-8f9134ef503c"
      },
      "execution_count": 155,
      "outputs": [
        {
          "output_type": "execute_result",
          "data": {
            "text/plain": [
              "tensor(1.5627, grad_fn=<NllLossBackward0>)"
            ]
          },
          "metadata": {},
          "execution_count": 155
        }
      ]
    },
    {
      "cell_type": "code",
      "source": [
        "# test loss\n",
        "emb = C[Xte] # (32, 3, 2)\n",
        "h = torch.tanh(emb.view(-1, 30) @ W1 + b1) # (32, 100)\n",
        "logits = h @ W2 + b2 # (32, 27)\n",
        "loss = F.cross_entropy(logits, Yte)\n",
        "loss"
      ],
      "metadata": {
        "colab": {
          "base_uri": "https://localhost:8080/"
        },
        "id": "DwOgCg1vdNhe",
        "outputId": "6c032b03-3558-4450-c551-7a0e5b2edafc"
      },
      "execution_count": 156,
      "outputs": [
        {
          "output_type": "execute_result",
          "data": {
            "text/plain": [
              "tensor(1.5652, grad_fn=<NllLossBackward0>)"
            ]
          },
          "metadata": {},
          "execution_count": 156
        }
      ]
    },
    {
      "cell_type": "code",
      "source": [
        "# visualize dimensions 0 and 1 of the embedding matrix C for all characters\n",
        "plt.figure(figsize=(8,8))\n",
        "plt.scatter(C[:,0].data, C[:,1].data, s=200)\n",
        "for i in range(C.shape[0]):\n",
        "    plt.text(C[i,0].item(), C[i,1].item(), itos[i], ha=\"center\", va=\"center\", color='white')\n",
        "plt.grid('minor')"
      ],
      "metadata": {
        "colab": {
          "base_uri": "https://localhost:8080/",
          "height": 676
        },
        "id": "CCWLYP9GdPP4",
        "outputId": "2160d0db-8b8d-4a9a-b8d3-2cf173d684ff"
      },
      "execution_count": 147,
      "outputs": [
        {
          "output_type": "display_data",
          "data": {
            "text/plain": [
              "<Figure size 800x800 with 1 Axes>"
            ],
            "image/png": "[encoded data removed]"
          },
          "metadata": {}
        }
      ]
    },
    {
      "cell_type": "code",
      "source": [
        "# sample from the model\n",
        "g = torch.Generator().manual_seed(214748364)\n",
        "\n",
        "for _ in range(200):\n",
        "\n",
        "    out = []\n",
        "    context = [0] * block_size # initialize with all ...\n",
        "    while True:\n",
        "      emb = C[torch.tensor([context])] # (1,block_size,d)\n",
        "      h = torch.tanh(emb.view(1, -1) @ W1 + b1)\n",
        "      logits = h @ W2 + b2\n",
        "      probs = F.softmax(logits, dim=1)\n",
        "      ix = torch.multinomial(probs, num_samples=1, generator=g).item()\n",
        "      context = context[1:] + [ix]\n",
        "      out.append(ix)\n",
        "      if ix == 0:\n",
        "        break\n",
        "\n",
        "    print(''.join(itos[i] for i in out))"
      ],
      "metadata": {
        "colab": {
          "base_uri": "https://localhost:8080/"
        },
        "id": "TQUMmgRrdRIA",
        "outputId": "8441d45f-41a7-41db-fa93-287969409bd2"
      },
      "execution_count": 154,
      "outputs": [
        {
          "output_type": "stream",
          "name": "stdout",
          "text": [
            "nider bhooma.\n",
            "mohmpatru.\n",
            "sumit.\n",
            "deep.\n",
            "mit kumar.\n",
            "rav dubtassyun kumawan.\n",
            "gaur.\n",
            "gufar.\n",
            "om princhand.\n",
            "sunil kit.\n",
            "sunil kali prasim.\n",
            "aloravi kur.\n",
            "raj kish.\n",
            "shivutdi.\n",
            "dipal.\n",
            "ram.\n",
            "shivra sonu.\n",
            "dandra.\n",
            "sarand.\n",
            "rohi lal singh.\n",
            "sachinuj.\n",
            "ram hushivashore.\n",
            "arish ram kisulrij ram   mohan.\n",
            "dharmanoj wopendra kumar.\n",
            "nitender singh kumar.\n",
            "mukesh.\n",
            "viroz.\n",
            "makashan kaari.\n",
            "ind.\n",
            "adilshartap kumar.\n",
            "rijesh kumar.\n",
            "balbir singh.\n",
            "deepak.\n",
            "visher singh.\n",
            "mr khandal.\n",
            "himru.\n",
            "ankar.\n",
            "dilashish kumar tharun.\n",
            "abirender.\n",
            "lishwariq.\n",
            "hukla raghul.\n",
            "sunil kumar.\n",
            "mohd.\n",
            "vijay kumar.\n",
            "ju singh.\n",
            "hand.\n",
            "surav singh.\n",
            "mush.\n",
            "sokin rupiyukhti.\n",
            "ram.\n",
            "vipin.\n",
            "ram.\n",
            "pandey.\n",
            "govinder.\n",
            "rajedai shand.\n",
            "mohit.\n",
            "shra.\n",
            "mho.\n",
            "shukla.\n",
            "md gayap.\n",
            "chu pukesh.\n",
            "haraya.\n",
            "pivlarat  soni chor.\n",
            "mohand.\n",
            "gurja.\n",
            "ralam.\n",
            "kham.\n",
            "nishnu.\n",
            "chandayal.\n",
            "yit.\n",
            "vijay rampuranal meen kumanish.\n",
            "parsh kumar tar.\n",
            "gula rayat.\n",
            "kand.\n",
            "sham natendra.\n",
            "ashoarwan lal kishor.\n",
            "vijesh.\n",
            "kuldeepak.\n",
            "ram shan.\n",
            "ravinderajatar.\n",
            "gopal kumar.\n",
            "sudeepak singh.\n",
            "bal megra.\n",
            "sahid.\n",
            "ash.\n",
            "kund.\n",
            "deep  piwar.\n",
            "sannu.\n",
            "gopal.\n",
            "chotu.\n",
            "prasad.\n",
            "ved singh.\n",
            "gautam.\n",
            "kamar.\n",
            "jagdishok kumar.\n",
            "irfad.\n",
            "deep  ram.\n",
            "sanjay parma.\n",
            "rambir turvats kumar.\n",
            "gautam.\n",
            "kesh chan.\n",
            "man.\n",
            "tahil urf sukh.\n",
            "rohit.\n",
            "mobi bondu.\n",
            "adiya pankamani.\n",
            "ittu.\n",
            "rakpal kumar.\n",
            "bhasad.\n",
            "lal singh.\n",
            "pusilan.\n",
            "omi singh.\n",
            "gim.\n",
            "devenlal.\n",
            "ram jrj.\n",
            "ana kumar.\n",
            "suresh  tufali.\n",
            "taljeetani  chatipandra singh.\n",
            "ramjat.\n",
            "mahteepak josh kumar satender pand.\n",
            "naranjeetan singh.\n",
            "akki.\n",
            "sames.\n",
            "sunil kumar.\n",
            "sain.\n",
            "rahul.\n",
            "shammabhish.\n",
            "vijay kumar.\n",
            "man rairwa.\n",
            "akram chan.\n",
            "roop singh.\n",
            "parma.\n",
            "mukukkanyayay.\n",
            "tap kumar.\n",
            "ajanil singh pak kumar.\n",
            "hit bablu.\n",
            "yasanjeetan singh.\n",
            "deep.\n",
            "mohd ist.\n",
            "prav.\n",
            "day.\n",
            "parkalu.\n",
            "mohd jaini.\n",
            "amit.\n",
            "rahid.\n",
            "ram lal.\n",
            "amrij.\n",
            "jitu gauthu gind.\n",
            "bashivam.\n",
            "kalam.\n",
            "shiq.\n",
            "lal.\n",
            "mohit.\n",
            "puravi kumar.\n",
            "satram prash.\n",
            "pankar pru.\n",
            "faizatu jha.\n",
            "ash.\n",
            "vishander singh.\n",
            "vijay.\n",
            "pavender naram lakram sin kumar gok kumar  lal.\n",
            "chotuumtramanoj.\n",
            "sunny.\n",
            "sanju.\n",
            "prakesh kumar.\n",
            "dinesh singh.\n",
            "aaj hussain kumar.\n",
            "mohit kumar.\n",
            "rohit  chankaj kumar.\n",
            "ajiv niree paswan gok jaglu.\n",
            "subhan sharmod.\n",
            "abhish.\n",
            "monu.\n",
            "haranand.\n",
            "buntu.\n",
            "pradeep kumar.\n",
            "bhashahrukhan.\n",
            "sandra singh mohd jain.\n",
            "kishan singh.\n",
            "sanjay sharam.\n",
            "sonathakash  shajan kumar.\n",
            "vish raj kumar.\n",
            "akash.\n",
            "sanjar.\n",
            "rakashok.\n",
            "bharam dakshant thamir.\n",
            "govinody.\n",
            "bhole ratawed.\n",
            "sureshadur bhoji.\n",
            "akash singh tya prash.\n",
            "ram jai lal.\n",
            "dilvahvimnare mehtarpal.\n",
            "adik shar.\n",
            "sukuldeena.\n",
            "rohit.\n",
            "dhu.\n",
            "anil.\n",
            "binder  visheedapil kumar.\n",
            "sanjeeru  rohit.\n",
            "rahmad.\n"
          ]
        }
      ]
    },
    {
      "cell_type": "code",
      "source": [],
      "metadata": {
        "id": "iwENKZS7dT_5"
      },
      "execution_count": null,
      "outputs": []
    }
  ]
}